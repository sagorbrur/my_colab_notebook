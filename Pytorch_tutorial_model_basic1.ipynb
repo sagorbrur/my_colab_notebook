{
  "nbformat": 4,
  "nbformat_minor": 0,
  "metadata": {
    "colab": {
      "name": "Pytorch_tutorial_model_basic1.ipynb",
      "provenance": [],
      "collapsed_sections": [],
      "authorship_tag": "ABX9TyOun2MIlXCNNiUmcXdxfwgo",
      "include_colab_link": true
    },
    "kernelspec": {
      "name": "python3",
      "display_name": "Python 3"
    },
    "accelerator": "GPU"
  },
  "cells": [
    {
      "cell_type": "markdown",
      "metadata": {
        "id": "view-in-github",
        "colab_type": "text"
      },
      "source": [
        "<a href=\"https://colab.research.google.com/github/sagorbrur/my_colab_notebook/blob/master/Pytorch_tutorial_model_basic1.ipynb\" target=\"_parent\"><img src=\"https://colab.research.google.com/assets/colab-badge.svg\" alt=\"Open In Colab\"/></a>"
      ]
    },
    {
      "cell_type": "code",
      "metadata": {
        "id": "CcfW-wnzYGD8",
        "colab_type": "code",
        "colab": {
          "base_uri": "https://localhost:8080/",
          "height": 35
        },
        "outputId": "985e6959-bccb-4826-d1a2-de51738ceefd"
      },
      "source": [
        "import numpy as np\n",
        "import pandas as pd\n",
        "import torch, torchvision\n",
        "torch.__version__"
      ],
      "execution_count": 2,
      "outputs": [
        {
          "output_type": "execute_result",
          "data": {
            "text/plain": [
              "'1.3.1'"
            ]
          },
          "metadata": {
            "tags": []
          },
          "execution_count": 2
        }
      ]
    },
    {
      "cell_type": "code",
      "metadata": {
        "id": "ecKgd2iTYQiJ",
        "colab_type": "code",
        "colab": {}
      },
      "source": [
        "import torch.nn as nn\n"
      ],
      "execution_count": 0,
      "outputs": []
    },
    {
      "cell_type": "code",
      "metadata": {
        "id": "5VgU4oO7YhYz",
        "colab_type": "code",
        "colab": {}
      },
      "source": [
        "# creating linear regression model\n",
        "class linear(nn.Module):\n",
        "  def __init__(self):\n",
        "    super(linear, self).__init__()\n",
        "    self.dense = nn.Linear(5, 1)\n",
        "\n",
        "  def forward(self, x):\n",
        "    x = self.dense(x)\n",
        "    return x\n",
        "\n",
        "  "
      ],
      "execution_count": 0,
      "outputs": []
    },
    {
      "cell_type": "code",
      "metadata": {
        "id": "ZCG_b-EOzlwS",
        "colab_type": "code",
        "colab": {
          "base_uri": "https://localhost:8080/",
          "height": 71
        },
        "outputId": "9cb809a4-3e45-4f88-a9ba-236e8f3742f5"
      },
      "source": [
        "model = linear()\n",
        "model"
      ],
      "execution_count": 5,
      "outputs": [
        {
          "output_type": "execute_result",
          "data": {
            "text/plain": [
              "linear(\n",
              "  (dense): Linear(in_features=5, out_features=1, bias=True)\n",
              ")"
            ]
          },
          "metadata": {
            "tags": []
          },
          "execution_count": 5
        }
      ]
    },
    {
      "cell_type": "code",
      "metadata": {
        "id": "OOCopnD6zqEI",
        "colab_type": "code",
        "colab": {
          "base_uri": "https://localhost:8080/",
          "height": 109
        },
        "outputId": "9ebba3fa-8151-443c-8fd8-91ecce02dd8f"
      },
      "source": [
        "for p in model.parameters():\n",
        "  print(p)"
      ],
      "execution_count": 6,
      "outputs": [
        {
          "output_type": "stream",
          "text": [
            "Parameter containing:\n",
            "tensor([[ 0.0066,  0.4038,  0.0641, -0.0900,  0.1780]], requires_grad=True)\n",
            "Parameter containing:\n",
            "tensor([0.1042], requires_grad=True)\n"
          ],
          "name": "stdout"
        }
      ]
    },
    {
      "cell_type": "code",
      "metadata": {
        "id": "kP5IYG24zvaf",
        "colab_type": "code",
        "colab": {
          "base_uri": "https://localhost:8080/",
          "height": 89
        },
        "outputId": "9821e7ee-ce91-4df6-fedc-9068a55292aa"
      },
      "source": [
        "nn.ParameterList(model.parameters())"
      ],
      "execution_count": 7,
      "outputs": [
        {
          "output_type": "execute_result",
          "data": {
            "text/plain": [
              "ParameterList(\n",
              "    (0): Parameter containing: [torch.FloatTensor of size 1x5]\n",
              "    (1): Parameter containing: [torch.FloatTensor of size 1]\n",
              ")"
            ]
          },
          "metadata": {
            "tags": []
          },
          "execution_count": 7
        }
      ]
    },
    {
      "cell_type": "code",
      "metadata": {
        "id": "bDikzaoez4Ao",
        "colab_type": "code",
        "colab": {
          "base_uri": "https://localhost:8080/",
          "height": 71
        },
        "outputId": "19989e38-0999-436c-fc68-67c63f0cdcb1"
      },
      "source": [
        "model.state_dict()\n"
      ],
      "execution_count": 8,
      "outputs": [
        {
          "output_type": "execute_result",
          "data": {
            "text/plain": [
              "OrderedDict([('dense.weight',\n",
              "              tensor([[ 0.0066,  0.4038,  0.0641, -0.0900,  0.1780]])),\n",
              "             ('dense.bias', tensor([0.1042]))])"
            ]
          },
          "metadata": {
            "tags": []
          },
          "execution_count": 8
        }
      ]
    },
    {
      "cell_type": "code",
      "metadata": {
        "id": "I6a4XmgUz74t",
        "colab_type": "code",
        "colab": {
          "base_uri": "https://localhost:8080/",
          "height": 53
        },
        "outputId": "3d63f6f8-b4f2-4fea-ac79-dd881c55ec6f"
      },
      "source": [
        "x = torch.randn(5, dtype = torch.float)   # generate a single data instance\n",
        "print(x)\n",
        "print(model(x)) "
      ],
      "execution_count": 9,
      "outputs": [
        {
          "output_type": "stream",
          "text": [
            "tensor([ 2.4799,  1.4912, -1.0688, -0.5471,  0.2823])\n",
            "tensor([0.7538], grad_fn=<AddBackward0>)\n"
          ],
          "name": "stdout"
        }
      ]
    },
    {
      "cell_type": "code",
      "metadata": {
        "id": "7IkjGXfV0BrX",
        "colab_type": "code",
        "colab": {
          "base_uri": "https://localhost:8080/",
          "height": 125
        },
        "outputId": "da1208d7-1f4a-4f10-d6b2-05d8515cf500"
      },
      "source": [
        "x = torch.randn(3, 5, dtype = torch.float)    # generate 3 random data instance\n",
        "print(x)\n",
        "print(model(x))"
      ],
      "execution_count": 10,
      "outputs": [
        {
          "output_type": "stream",
          "text": [
            "tensor([[-1.4807, -0.4611,  0.7988, -1.9477,  0.0901],\n",
            "        [-1.0158,  1.6428, -1.5025,  0.3722, -0.5055],\n",
            "        [-0.0817, -2.2221, -0.5454, -0.1207, -0.2876]])\n",
            "tensor([[ 0.1508],\n",
            "        [ 0.5410],\n",
            "        [-0.8690]], grad_fn=<AddmmBackward>)\n"
          ],
          "name": "stdout"
        }
      ]
    },
    {
      "cell_type": "code",
      "metadata": {
        "id": "n2P6w3hf0Fkf",
        "colab_type": "code",
        "colab": {}
      },
      "source": [
        ""
      ],
      "execution_count": 0,
      "outputs": []
    }
  ]
}