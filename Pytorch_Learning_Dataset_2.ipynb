{
  "nbformat": 4,
  "nbformat_minor": 0,
  "metadata": {
    "colab": {
      "name": "Pytorch_Learning_Dataset_2.ipynb",
      "provenance": [],
      "collapsed_sections": [],
      "authorship_tag": "ABX9TyPSy7tCSbqFCXPmpqFybypb",
      "include_colab_link": true
    },
    "kernelspec": {
      "name": "python3",
      "display_name": "Python 3"
    }
  },
  "cells": [
    {
      "cell_type": "markdown",
      "metadata": {
        "id": "view-in-github",
        "colab_type": "text"
      },
      "source": [
        "<a href=\"https://colab.research.google.com/github/sagorbrur/my_colab_notebook/blob/master/Pytorch_Learning_Dataset_2.ipynb\" target=\"_parent\"><img src=\"https://colab.research.google.com/assets/colab-badge.svg\" alt=\"Open In Colab\"/></a>"
      ]
    },
    {
      "cell_type": "code",
      "metadata": {
        "id": "gJPqiUwC60_z",
        "colab_type": "code",
        "colab": {
          "base_uri": "https://localhost:8080/",
          "height": 35
        },
        "outputId": "d8b5ca5d-25e6-4de9-b8f7-3a7ccb940430"
      },
      "source": [
        "import numpy as np\n",
        "import pandas as pd\n",
        "import torch, torchvision\n",
        "torch.__version__"
      ],
      "execution_count": 1,
      "outputs": [
        {
          "output_type": "execute_result",
          "data": {
            "text/plain": [
              "'1.3.1'"
            ]
          },
          "metadata": {
            "tags": []
          },
          "execution_count": 1
        }
      ]
    },
    {
      "cell_type": "code",
      "metadata": {
        "id": "9s7slZNu6-ns",
        "colab_type": "code",
        "colab": {
          "base_uri": "https://localhost:8080/",
          "height": 35
        },
        "outputId": "05bbfe72-824a-4b13-80e0-3e8064f705a5"
      },
      "source": [
        "device = torch.device('cuda')\n",
        "device"
      ],
      "execution_count": 2,
      "outputs": [
        {
          "output_type": "execute_result",
          "data": {
            "text/plain": [
              "device(type='cuda')"
            ]
          },
          "metadata": {
            "tags": []
          },
          "execution_count": 2
        }
      ]
    },
    {
      "cell_type": "code",
      "metadata": {
        "id": "GFCAkQZ27D5P",
        "colab_type": "code",
        "colab": {}
      },
      "source": [
        "class SeizureDataset(torch.utils.data.Dataset):\n",
        "  def __init__(self):\n",
        "    df = pd.read_csv(\"https://archive.ics.uci.edu/ml/machine-learning-databases/00388/data.csv\")\n",
        "    df = df[df.columns[1:]]\n",
        "    self.X = df[df.columns[:-1]].values\n",
        "    self.Y = df['y'].astype('category').cat.codes.values.astype(np.int32)\n",
        "\n",
        "  def __getitem__(self, idx):\n",
        "    return self.X[idx], self.Y[idx]\n",
        "\n",
        "  def __len__(self):\n",
        "    return len(self.X)\n",
        "\n",
        "\n"
      ],
      "execution_count": 0,
      "outputs": []
    },
    {
      "cell_type": "code",
      "metadata": {
        "id": "GQqT5uiI8Hk2",
        "colab_type": "code",
        "colab": {}
      },
      "source": [
        "seizuredataset = SeizureDataset()"
      ],
      "execution_count": 0,
      "outputs": []
    },
    {
      "cell_type": "code",
      "metadata": {
        "id": "4zBkwaVm8NXe",
        "colab_type": "code",
        "colab": {
          "base_uri": "https://localhost:8080/",
          "height": 35
        },
        "outputId": "385be238-fe51-4595-ac8a-d06ec3b32fc2"
      },
      "source": [
        "NUM_INSTANCES = len(seizuredataset)\n",
        "TEST_RATIO = 0.3\n",
        "TEST_SIZE = int(NUM_INSTANCES * 0.3)\n",
        "TRAIN_SIZE = NUM_INSTANCES - TEST_SIZE\n",
        "print(NUM_INSTANCES, TRAIN_SIZE, TEST_SIZE)"
      ],
      "execution_count": 13,
      "outputs": [
        {
          "output_type": "stream",
          "text": [
            "11500 8050 3450\n"
          ],
          "name": "stdout"
        }
      ]
    },
    {
      "cell_type": "code",
      "metadata": {
        "id": "f_wR3bam8kgL",
        "colab_type": "code",
        "colab": {
          "base_uri": "https://localhost:8080/",
          "height": 35
        },
        "outputId": "be611ae1-9cd6-4224-c8b3-a1aa2825de41"
      },
      "source": [
        "train_data, test_data = torch.utils.data.random_split(seizuredataset, (TRAIN_SIZE, TEST_SIZE))\n",
        "print(len(train_data), len(test_data))"
      ],
      "execution_count": 14,
      "outputs": [
        {
          "output_type": "stream",
          "text": [
            "8050 3450\n"
          ],
          "name": "stdout"
        }
      ]
    },
    {
      "cell_type": "code",
      "metadata": {
        "id": "fmYxGu499Ya5",
        "colab_type": "code",
        "colab": {}
      },
      "source": [
        "train_loader = torch.utils.data.DataLoader(train_data, batch_size=64, shuffle=True)\n",
        "test_loader = torch.utils.data.DataLoader(test_data, batch_size=64, shuffle=True)\n",
        "\n"
      ],
      "execution_count": 0,
      "outputs": []
    },
    {
      "cell_type": "code",
      "metadata": {
        "id": "wvKlxAMs9tpr",
        "colab_type": "code",
        "colab": {
          "base_uri": "https://localhost:8080/",
          "height": 35
        },
        "outputId": "9d3d350e-3c7e-403c-f14e-5ab2e4f3d225"
      },
      "source": [
        "# Logistic Regression model\n",
        "model = torch.nn.Linear(178, 5)\n",
        "criterion = torch.nn.CrossEntropyLoss()\n",
        "optimizer = torch.optim.Adam(model.parameters(), lr = 1e-2)\n",
        "model\n"
      ],
      "execution_count": 17,
      "outputs": [
        {
          "output_type": "execute_result",
          "data": {
            "text/plain": [
              "Linear(in_features=178, out_features=5, bias=True)"
            ]
          },
          "metadata": {
            "tags": []
          },
          "execution_count": 17
        }
      ]
    },
    {
      "cell_type": "code",
      "metadata": {
        "id": "KKgWdlM_-Nha",
        "colab_type": "code",
        "colab": {
          "base_uri": "https://localhost:8080/",
          "height": 197
        },
        "outputId": "30ac64b3-8555-402f-d5a8-2038d3ea457d"
      },
      "source": [
        "num_steps = len(train_loader)\n",
        "\n",
        "for epoch in range(100):\n",
        "  for i, (x, y) in enumerate(train_loader):\n",
        "    x, y = x.float(), y.long()\n",
        "    outputs = model(x)\n",
        "    loss = criterion(outputs, y)\n",
        "    optimizer.zero_grad()\n",
        "    loss.backward()\n",
        "    optimizer.step()\n",
        "\n",
        "\n",
        "  if (epoch+1)%10==0:\n",
        "    print(\"Epoch: {}, Loss: {:.5f}\".format(epoch+1, loss.item()))\n"
      ],
      "execution_count": 18,
      "outputs": [
        {
          "output_type": "stream",
          "text": [
            "Epoch: 10, Loss: 33.33145\n",
            "Epoch: 20, Loss: 62.66999\n",
            "Epoch: 30, Loss: 69.26063\n",
            "Epoch: 40, Loss: 41.24961\n",
            "Epoch: 50, Loss: 34.04977\n",
            "Epoch: 60, Loss: 32.06202\n",
            "Epoch: 70, Loss: 24.21969\n",
            "Epoch: 80, Loss: 57.77056\n",
            "Epoch: 90, Loss: 31.39473\n",
            "Epoch: 100, Loss: 82.34986\n"
          ],
          "name": "stdout"
        }
      ]
    },
    {
      "cell_type": "code",
      "metadata": {
        "id": "_RNOCNOR-_2R",
        "colab_type": "code",
        "colab": {}
      },
      "source": [
        "# References\n",
        "# https://github.com/buomsoo-kim/PyTorch-learners-tutorial/blob/master/PyTorch%20Basics/pytorch-datasets-2.ipynb"
      ],
      "execution_count": 0,
      "outputs": []
    }
  ]
}