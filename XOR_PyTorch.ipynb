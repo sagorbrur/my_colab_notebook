{
  "nbformat": 4,
  "nbformat_minor": 0,
  "metadata": {
    "colab": {
      "name": "XOR_PyTorch.ipynb",
      "version": "0.3.2",
      "provenance": [],
      "collapsed_sections": [],
      "include_colab_link": true
    },
    "kernelspec": {
      "name": "python3",
      "display_name": "Python 3"
    },
    "accelerator": "GPU"
  },
  "cells": [
    {
      "cell_type": "markdown",
      "metadata": {
        "id": "view-in-github",
        "colab_type": "text"
      },
      "source": [
        "<a href=\"https://colab.research.google.com/github/sagorbrur/my_colab_notebook/blob/master/XOR_PyTorch.ipynb\" target=\"_parent\"><img src=\"https://colab.research.google.com/assets/colab-badge.svg\" alt=\"Open In Colab\"/></a>"
      ]
    },
    {
      "cell_type": "code",
      "metadata": {
        "id": "4hJtQZNcwV4x",
        "colab_type": "code",
        "colab": {}
      },
      "source": [
        "import torch"
      ],
      "execution_count": 0,
      "outputs": []
    },
    {
      "cell_type": "code",
      "metadata": {
        "id": "9I5s8cQuwnmm",
        "colab_type": "code",
        "colab": {}
      },
      "source": [
        "from torch.autograd import Variable\n",
        "import torch.nn as nn\n",
        "import torch.nn.functional as F \n",
        "import torch.optim as optim"
      ],
      "execution_count": 0,
      "outputs": []
    },
    {
      "cell_type": "code",
      "metadata": {
        "id": "vwO4_fxVw9sD",
        "colab_type": "code",
        "colab": {}
      },
      "source": [
        "epoch = 50000"
      ],
      "execution_count": 0,
      "outputs": []
    },
    {
      "cell_type": "code",
      "metadata": {
        "id": "himqoCpUxBe7",
        "colab_type": "code",
        "colab": {}
      },
      "source": [
        "class Net(nn.Module):\n",
        "  def __init__(self):\n",
        "    super(Net, self).__init__()\n",
        "    self.fc1 = nn.Linear(2, 3, True)\n",
        "    self.fc2 = nn.Linear(3, 1, True)\n",
        "\n",
        "  def forward(self, x):\n",
        "    x = F.sigmoid(self.fc1(x))\n",
        "    x = self.fc2(x)\n",
        "    return x\n",
        "\n",
        "\n",
        "\n"
      ],
      "execution_count": 0,
      "outputs": []
    },
    {
      "cell_type": "code",
      "metadata": {
        "id": "O0tu6_DNx6yv",
        "colab_type": "code",
        "colab": {
          "base_uri": "https://localhost:8080/",
          "height": 85
        },
        "outputId": "072ba7b2-e54a-4c0e-c490-bd607e2bca1b"
      },
      "source": [
        "net = Net()\n",
        "inputs = list(map(lambda s: Variable(torch.Tensor([s])), [\n",
        "    [0, 0],\n",
        "    [0, 1],\n",
        "    [1, 0],\n",
        "    [1, 1]\n",
        "]))\n",
        "\n",
        "\n",
        "inputs"
      ],
      "execution_count": 10,
      "outputs": [
        {
          "output_type": "execute_result",
          "data": {
            "text/plain": [
              "[tensor([[0., 0.]]),\n",
              " tensor([[0., 1.]]),\n",
              " tensor([[1., 0.]]),\n",
              " tensor([[1., 1.]])]"
            ]
          },
          "metadata": {
            "tags": []
          },
          "execution_count": 10
        }
      ]
    },
    {
      "cell_type": "code",
      "metadata": {
        "id": "hPbqqw66x8nx",
        "colab_type": "code",
        "colab": {
          "base_uri": "https://localhost:8080/",
          "height": 34
        },
        "outputId": "a0323186-aa0a-49b1-a6be-2bbafbdb81bd"
      },
      "source": [
        "targets = list(map(lambda s: Variable(torch.Tensor([s])), [\n",
        "    [0],\n",
        "    [1],\n",
        "    [1],\n",
        "    [0]\n",
        "]))\n",
        "\n",
        "targets"
      ],
      "execution_count": 12,
      "outputs": [
        {
          "output_type": "execute_result",
          "data": {
            "text/plain": [
              "[tensor([[0.]]), tensor([[1.]]), tensor([[1.]]), tensor([[0.]])]"
            ]
          },
          "metadata": {
            "tags": []
          },
          "execution_count": 12
        }
      ]
    },
    {
      "cell_type": "code",
      "metadata": {
        "id": "vaYdXZvEyXOg",
        "colab_type": "code",
        "colab": {}
      },
      "source": [
        "criterion = nn.MSELoss()\n",
        "optimizer = optim.SGD(net.parameters(), lr=0.01)\n"
      ],
      "execution_count": 0,
      "outputs": []
    },
    {
      "cell_type": "code",
      "metadata": {
        "id": "vJs_tmk8ysqY",
        "colab_type": "code",
        "colab": {
          "base_uri": "https://localhost:8080/",
          "height": 258
        },
        "outputId": "b47a3337-4ede-48f2-dafc-91a0299678a5"
      },
      "source": [
        "print(\"Training loop:\")\n",
        "\n",
        "for idx in range(0, epoch):\n",
        "  for input, target in zip(inputs, targets):\n",
        "    optimizer.zero_grad()\n",
        "    output = net(input)\n",
        "    loss = criterion(output, target)\n",
        "    loss.backward()\n",
        "    optimizer.step()\n",
        "  if idx % 5000 == 0:\n",
        "      print(\"Epoch {: >8} Loss: {}\".format(idx, loss.data.numpy()))\n",
        "\n"
      ],
      "execution_count": 19,
      "outputs": [
        {
          "output_type": "stream",
          "text": [
            "Training loop:\n",
            "Epoch        0 Loss: 0.0459454320371151\n"
          ],
          "name": "stdout"
        },
        {
          "output_type": "stream",
          "text": [
            "/usr/local/lib/python3.6/dist-packages/torch/nn/functional.py:1386: UserWarning: nn.functional.sigmoid is deprecated. Use torch.sigmoid instead.\n",
            "  warnings.warn(\"nn.functional.sigmoid is deprecated. Use torch.sigmoid instead.\")\n"
          ],
          "name": "stderr"
        },
        {
          "output_type": "stream",
          "text": [
            "Epoch     5000 Loss: 0.2801951766014099\n",
            "Epoch    10000 Loss: 0.0036854594945907593\n",
            "Epoch    15000 Loss: 1.0168754727146734e-09\n",
            "Epoch    20000 Loss: 1.0168754727146734e-09\n",
            "Epoch    25000 Loss: 1.0168754727146734e-09\n",
            "Epoch    30000 Loss: 1.0168754727146734e-09\n",
            "Epoch    35000 Loss: 1.0168754727146734e-09\n",
            "Epoch    40000 Loss: 1.0168754727146734e-09\n",
            "Epoch    45000 Loss: 1.0168754727146734e-09\n"
          ],
          "name": "stdout"
        }
      ]
    },
    {
      "cell_type": "code",
      "metadata": {
        "id": "J6BIUpiZzzX-",
        "colab_type": "code",
        "colab": {
          "base_uri": "https://localhost:8080/",
          "height": 173
        },
        "outputId": "9c3fdd2a-d685-45d5-fb37-22b2635da657"
      },
      "source": [
        "print(\"\")\n",
        "print(\"Final Result\")\n",
        "for input, target in zip(inputs, targets):\n",
        "  output = net(input)\n",
        "  print(\"Input:[{},{}] Target:[{}] Predicted:[{}] Error:[{}]\".format(\n",
        "        int(input.data.numpy()[0][0]),\n",
        "        int(input.data.numpy()[0][1]),\n",
        "        int(target.data.numpy()[0]),\n",
        "        round(float(output.data.numpy()[0]), 4),\n",
        "        round(float(abs(target.data.numpy()[0] - output.data.numpy()[0])), 4)\n",
        "    ))"
      ],
      "execution_count": 20,
      "outputs": [
        {
          "output_type": "stream",
          "text": [
            "\n",
            "Final Result\n",
            "Input:[0,0] Target:[0] Predicted:[0.0] Error:[0.0]\n",
            "Input:[0,1] Target:[1] Predicted:[1.0] Error:[0.0]\n",
            "Input:[1,0] Target:[1] Predicted:[1.0] Error:[0.0]\n",
            "Input:[1,1] Target:[0] Predicted:[0.0] Error:[0.0]\n"
          ],
          "name": "stdout"
        },
        {
          "output_type": "stream",
          "text": [
            "/usr/local/lib/python3.6/dist-packages/torch/nn/functional.py:1386: UserWarning: nn.functional.sigmoid is deprecated. Use torch.sigmoid instead.\n",
            "  warnings.warn(\"nn.functional.sigmoid is deprecated. Use torch.sigmoid instead.\")\n"
          ],
          "name": "stderr"
        }
      ]
    },
    {
      "cell_type": "code",
      "metadata": {
        "id": "IDRocwuQ0_G8",
        "colab_type": "code",
        "colab": {}
      },
      "source": [
        ""
      ],
      "execution_count": 0,
      "outputs": []
    }
  ]
}