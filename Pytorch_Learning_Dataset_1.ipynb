{
  "nbformat": 4,
  "nbformat_minor": 0,
  "metadata": {
    "colab": {
      "name": "Pytorch_Learning_Dataset_1.ipynb",
      "provenance": [],
      "collapsed_sections": [],
      "authorship_tag": "ABX9TyOxIPGpEIhLb5XjhGoyJuNM",
      "include_colab_link": true
    },
    "kernelspec": {
      "name": "python3",
      "display_name": "Python 3"
    }
  },
  "cells": [
    {
      "cell_type": "markdown",
      "metadata": {
        "id": "view-in-github",
        "colab_type": "text"
      },
      "source": [
        "<a href=\"https://colab.research.google.com/github/sagorbrur/my_colab_notebook/blob/master/Pytorch_Learning_Dataset_1.ipynb\" target=\"_parent\"><img src=\"https://colab.research.google.com/assets/colab-badge.svg\" alt=\"Open In Colab\"/></a>"
      ]
    },
    {
      "cell_type": "code",
      "metadata": {
        "id": "y-paDWUaya9H",
        "colab_type": "code",
        "colab": {
          "base_uri": "https://localhost:8080/",
          "height": 35
        },
        "outputId": "953fc0d6-733f-462c-d4e2-5998980fd0a1"
      },
      "source": [
        "import numpy as np\n",
        "import pandas as pd\n",
        "import torch, torchvision\n",
        "torch.__version__"
      ],
      "execution_count": 1,
      "outputs": [
        {
          "output_type": "execute_result",
          "data": {
            "text/plain": [
              "'1.3.1'"
            ]
          },
          "metadata": {
            "tags": []
          },
          "execution_count": 1
        }
      ]
    },
    {
      "cell_type": "code",
      "metadata": {
        "id": "wIb4VzgvyjrK",
        "colab_type": "code",
        "colab": {
          "base_uri": "https://localhost:8080/",
          "height": 204
        },
        "outputId": "a6818874-4767-4eed-e322-0ce95b6ed864"
      },
      "source": [
        "url = \"https://archive.ics.uci.edu/ml/machine-learning-databases/iris/iris.data\"\n",
        "data = pd.read_table(url, header = None, sep = \",\")\n",
        "data.columns = [\"sepal_len\", \"sepal_wid\", \"petal_len\", \"petal_wid\", \"class\"]\n",
        "data.head()"
      ],
      "execution_count": 2,
      "outputs": [
        {
          "output_type": "execute_result",
          "data": {
            "text/html": [
              "<div>\n",
              "<style scoped>\n",
              "    .dataframe tbody tr th:only-of-type {\n",
              "        vertical-align: middle;\n",
              "    }\n",
              "\n",
              "    .dataframe tbody tr th {\n",
              "        vertical-align: top;\n",
              "    }\n",
              "\n",
              "    .dataframe thead th {\n",
              "        text-align: right;\n",
              "    }\n",
              "</style>\n",
              "<table border=\"1\" class=\"dataframe\">\n",
              "  <thead>\n",
              "    <tr style=\"text-align: right;\">\n",
              "      <th></th>\n",
              "      <th>sepal_len</th>\n",
              "      <th>sepal_wid</th>\n",
              "      <th>petal_len</th>\n",
              "      <th>petal_wid</th>\n",
              "      <th>class</th>\n",
              "    </tr>\n",
              "  </thead>\n",
              "  <tbody>\n",
              "    <tr>\n",
              "      <th>0</th>\n",
              "      <td>5.1</td>\n",
              "      <td>3.5</td>\n",
              "      <td>1.4</td>\n",
              "      <td>0.2</td>\n",
              "      <td>Iris-setosa</td>\n",
              "    </tr>\n",
              "    <tr>\n",
              "      <th>1</th>\n",
              "      <td>4.9</td>\n",
              "      <td>3.0</td>\n",
              "      <td>1.4</td>\n",
              "      <td>0.2</td>\n",
              "      <td>Iris-setosa</td>\n",
              "    </tr>\n",
              "    <tr>\n",
              "      <th>2</th>\n",
              "      <td>4.7</td>\n",
              "      <td>3.2</td>\n",
              "      <td>1.3</td>\n",
              "      <td>0.2</td>\n",
              "      <td>Iris-setosa</td>\n",
              "    </tr>\n",
              "    <tr>\n",
              "      <th>3</th>\n",
              "      <td>4.6</td>\n",
              "      <td>3.1</td>\n",
              "      <td>1.5</td>\n",
              "      <td>0.2</td>\n",
              "      <td>Iris-setosa</td>\n",
              "    </tr>\n",
              "    <tr>\n",
              "      <th>4</th>\n",
              "      <td>5.0</td>\n",
              "      <td>3.6</td>\n",
              "      <td>1.4</td>\n",
              "      <td>0.2</td>\n",
              "      <td>Iris-setosa</td>\n",
              "    </tr>\n",
              "  </tbody>\n",
              "</table>\n",
              "</div>"
            ],
            "text/plain": [
              "   sepal_len  sepal_wid  petal_len  petal_wid        class\n",
              "0        5.1        3.5        1.4        0.2  Iris-setosa\n",
              "1        4.9        3.0        1.4        0.2  Iris-setosa\n",
              "2        4.7        3.2        1.3        0.2  Iris-setosa\n",
              "3        4.6        3.1        1.5        0.2  Iris-setosa\n",
              "4        5.0        3.6        1.4        0.2  Iris-setosa"
            ]
          },
          "metadata": {
            "tags": []
          },
          "execution_count": 2
        }
      ]
    },
    {
      "cell_type": "code",
      "metadata": {
        "id": "ZJ9M2wT5y3NR",
        "colab_type": "code",
        "colab": {
          "base_uri": "https://localhost:8080/",
          "height": 204
        },
        "outputId": "c30ef14b-d9cb-41ce-b1a9-c494ec8d79c8"
      },
      "source": [
        "data['class'] = data['class'].astype('category').cat.codes\n",
        "data.head()"
      ],
      "execution_count": 5,
      "outputs": [
        {
          "output_type": "execute_result",
          "data": {
            "text/html": [
              "<div>\n",
              "<style scoped>\n",
              "    .dataframe tbody tr th:only-of-type {\n",
              "        vertical-align: middle;\n",
              "    }\n",
              "\n",
              "    .dataframe tbody tr th {\n",
              "        vertical-align: top;\n",
              "    }\n",
              "\n",
              "    .dataframe thead th {\n",
              "        text-align: right;\n",
              "    }\n",
              "</style>\n",
              "<table border=\"1\" class=\"dataframe\">\n",
              "  <thead>\n",
              "    <tr style=\"text-align: right;\">\n",
              "      <th></th>\n",
              "      <th>sepal_len</th>\n",
              "      <th>sepal_wid</th>\n",
              "      <th>petal_len</th>\n",
              "      <th>petal_wid</th>\n",
              "      <th>class</th>\n",
              "    </tr>\n",
              "  </thead>\n",
              "  <tbody>\n",
              "    <tr>\n",
              "      <th>0</th>\n",
              "      <td>5.1</td>\n",
              "      <td>3.5</td>\n",
              "      <td>1.4</td>\n",
              "      <td>0.2</td>\n",
              "      <td>0</td>\n",
              "    </tr>\n",
              "    <tr>\n",
              "      <th>1</th>\n",
              "      <td>4.9</td>\n",
              "      <td>3.0</td>\n",
              "      <td>1.4</td>\n",
              "      <td>0.2</td>\n",
              "      <td>0</td>\n",
              "    </tr>\n",
              "    <tr>\n",
              "      <th>2</th>\n",
              "      <td>4.7</td>\n",
              "      <td>3.2</td>\n",
              "      <td>1.3</td>\n",
              "      <td>0.2</td>\n",
              "      <td>0</td>\n",
              "    </tr>\n",
              "    <tr>\n",
              "      <th>3</th>\n",
              "      <td>4.6</td>\n",
              "      <td>3.1</td>\n",
              "      <td>1.5</td>\n",
              "      <td>0.2</td>\n",
              "      <td>0</td>\n",
              "    </tr>\n",
              "    <tr>\n",
              "      <th>4</th>\n",
              "      <td>5.0</td>\n",
              "      <td>3.6</td>\n",
              "      <td>1.4</td>\n",
              "      <td>0.2</td>\n",
              "      <td>0</td>\n",
              "    </tr>\n",
              "  </tbody>\n",
              "</table>\n",
              "</div>"
            ],
            "text/plain": [
              "   sepal_len  sepal_wid  petal_len  petal_wid  class\n",
              "0        5.1        3.5        1.4        0.2      0\n",
              "1        4.9        3.0        1.4        0.2      0\n",
              "2        4.7        3.2        1.3        0.2      0\n",
              "3        4.6        3.1        1.5        0.2      0\n",
              "4        5.0        3.6        1.4        0.2      0"
            ]
          },
          "metadata": {
            "tags": []
          },
          "execution_count": 5
        }
      ]
    },
    {
      "cell_type": "code",
      "metadata": {
        "id": "ey9zp9zczJqC",
        "colab_type": "code",
        "colab": {
          "base_uri": "https://localhost:8080/",
          "height": 35
        },
        "outputId": "48adb010-b5da-4a8f-971c-e21a739a44c6"
      },
      "source": [
        "X_data = data[[\"sepal_len\", \"sepal_wid\", \"petal_len\", \"petal_wid\"]].values.astype('float32')\n",
        "y_data = data['class'].values.astype('int32')\n",
        "print(X_data.shape, y_data.shape)"
      ],
      "execution_count": 6,
      "outputs": [
        {
          "output_type": "stream",
          "text": [
            "(150, 4) (150,)\n"
          ],
          "name": "stdout"
        }
      ]
    },
    {
      "cell_type": "code",
      "metadata": {
        "id": "9TVcKhH-zr71",
        "colab_type": "code",
        "colab": {
          "base_uri": "https://localhost:8080/",
          "height": 53
        },
        "outputId": "5f79f9db-6b56-42ac-8f6b-cc78b322b689"
      },
      "source": [
        "# Generating Tensor\n",
        "\n",
        "X_tensor = torch.from_numpy(X_data)\n",
        "y_tensor = torch.from_numpy(y_data)\n",
        "print(X_tensor.type(), y_tensor.type())\n",
        "print(X_tensor.size(), y_tensor.size())"
      ],
      "execution_count": 7,
      "outputs": [
        {
          "output_type": "stream",
          "text": [
            "torch.FloatTensor torch.IntTensor\n",
            "torch.Size([150, 4]) torch.Size([150])\n"
          ],
          "name": "stdout"
        }
      ]
    },
    {
      "cell_type": "code",
      "metadata": {
        "id": "GKBvpWZr0FUY",
        "colab_type": "code",
        "colab": {
          "base_uri": "https://localhost:8080/",
          "height": 53
        },
        "outputId": "fe4ad33f-2c57-4515-d969-6c55af623602"
      },
      "source": [
        "# assigning data type explicitly\n",
        "X_tensor = torch.FloatTensor(X_data)\n",
        "y_tensor = torch.LongTensor(y_data)\n",
        "\n",
        "print(X_tensor.type(), y_tensor.type())\n",
        "print(X_tensor.size(), y_tensor.size())"
      ],
      "execution_count": 8,
      "outputs": [
        {
          "output_type": "stream",
          "text": [
            "torch.FloatTensor torch.LongTensor\n",
            "torch.Size([150, 4]) torch.Size([150])\n"
          ],
          "name": "stdout"
        }
      ]
    },
    {
      "cell_type": "code",
      "metadata": {
        "id": "ZlncTPFU0TZA",
        "colab_type": "code",
        "colab": {
          "base_uri": "https://localhost:8080/",
          "height": 35
        },
        "outputId": "926b2bc9-cbbe-4728-dc4f-b7844cba9977"
      },
      "source": [
        "# Logistic Regression model\n",
        "model = torch.nn.Linear(X_data.shape[-1], len(set(y_data)))\n",
        "criterion = torch.nn.CrossEntropyLoss()\n",
        "optimizer = torch.optim.Adam(model.parameters(), lr=1e-3)\n",
        "model"
      ],
      "execution_count": 9,
      "outputs": [
        {
          "output_type": "execute_result",
          "data": {
            "text/plain": [
              "Linear(in_features=4, out_features=3, bias=True)"
            ]
          },
          "metadata": {
            "tags": []
          },
          "execution_count": 9
        }
      ]
    },
    {
      "cell_type": "code",
      "metadata": {
        "id": "OQDpYe7Z1DqV",
        "colab_type": "code",
        "colab": {
          "base_uri": "https://localhost:8080/",
          "height": 197
        },
        "outputId": "220ee3d4-4cfb-4a99-f5ee-d1c02cbac29f"
      },
      "source": [
        "for epoch in range(100):\n",
        "  outputs = model(X_tensor)\n",
        "  loss = criterion(outputs, y_tensor)\n",
        "  optimizer.zero_grad()\n",
        "  loss.backward()\n",
        "  optimizer.step()\n",
        "\n",
        "  if (epoch+1)%10==0:\n",
        "    print(\"Epoch: {} Loss: {:.5f}\".format(epoch+1, loss.item()))"
      ],
      "execution_count": 10,
      "outputs": [
        {
          "output_type": "stream",
          "text": [
            "Epoch: 10 Loss: 1.75256\n",
            "Epoch: 20 Loss: 1.66084\n",
            "Epoch: 30 Loss: 1.57523\n",
            "Epoch: 40 Loss: 1.49664\n",
            "Epoch: 50 Loss: 1.42623\n",
            "Epoch: 60 Loss: 1.36469\n",
            "Epoch: 70 Loss: 1.31203\n",
            "Epoch: 80 Loss: 1.26753\n",
            "Epoch: 90 Loss: 1.22998\n",
            "Epoch: 100 Loss: 1.19793\n"
          ],
          "name": "stdout"
        }
      ]
    },
    {
      "cell_type": "code",
      "metadata": {
        "id": "LMuP4VPf15Ql",
        "colab_type": "code",
        "colab": {}
      },
      "source": [
        "# Generating custom data with Dataloader\n",
        "class IrisDataset(torch.utils.data.Dataset):\n",
        "  def __init__(self):\n",
        "    url = \"https://archive.ics.uci.edu/ml/machine-learning-databases/iris/iris.data\"\n",
        "    data = pd.read_table(url, header = None, sep = \",\")\n",
        "    data.columns = [\"sepal_len\", \"sepal_wid\", \"petal_len\", \"petal_wid\", \"class\"]\n",
        "    data[\"class\"] = data[\"class\"].astype(\"category\").cat.codes\n",
        "    \n",
        "    self.X = data[[\"sepal_len\", \"sepal_wid\", \"petal_len\", \"petal_wid\"]].values\n",
        "    self.Y = data[\"class\"].values[:, np.newaxis].astype(np.int32)\n",
        "\n",
        "  def __getitem__(self, idx):\n",
        "    # get item by index\n",
        "    return self.X[idx], self.Y[idx]\n",
        "  \n",
        "  def __len__(self):\n",
        "    # returns length of data\n",
        "    return len(self.X)\n",
        "\n",
        "\n"
      ],
      "execution_count": 0,
      "outputs": []
    },
    {
      "cell_type": "code",
      "metadata": {
        "id": "zLdQnQH62vqv",
        "colab_type": "code",
        "colab": {
          "base_uri": "https://localhost:8080/",
          "height": 53
        },
        "outputId": "4e50e80f-e2d4-42f3-f184-e63bad360f45"
      },
      "source": [
        "irisDataset = IrisDataset()\n",
        "print(type(irisDataset))\n",
        "print(len(irisDataset))"
      ],
      "execution_count": 14,
      "outputs": [
        {
          "output_type": "stream",
          "text": [
            "<class '__main__.IrisDataset'>\n",
            "150\n"
          ],
          "name": "stdout"
        }
      ]
    },
    {
      "cell_type": "code",
      "metadata": {
        "id": "LFIG2v2-219y",
        "colab_type": "code",
        "colab": {
          "base_uri": "https://localhost:8080/",
          "height": 35
        },
        "outputId": "96367706-05b0-4a2c-ba28-35dc1f099f70"
      },
      "source": [
        "dataLoader = torch.utils.data.DataLoader(irisDataset, batch_size=32, shuffle=True)\n",
        "dataLoader"
      ],
      "execution_count": 15,
      "outputs": [
        {
          "output_type": "execute_result",
          "data": {
            "text/plain": [
              "<torch.utils.data.dataloader.DataLoader at 0x7fa82a9b29e8>"
            ]
          },
          "metadata": {
            "tags": []
          },
          "execution_count": 15
        }
      ]
    },
    {
      "cell_type": "code",
      "metadata": {
        "id": "4Ng4CjX73Opp",
        "colab_type": "code",
        "colab": {
          "base_uri": "https://localhost:8080/",
          "height": 35
        },
        "outputId": "669d1e4a-0e43-4156-e125-124cb87b604d"
      },
      "source": [
        "model = torch.nn.Linear(4, 3).double()\n",
        "criterion = torch.nn.CrossEntropyLoss()\n",
        "optimizer = torch.optim.Adam(model.parameters(), lr=1e-3)\n",
        "model"
      ],
      "execution_count": 16,
      "outputs": [
        {
          "output_type": "execute_result",
          "data": {
            "text/plain": [
              "Linear(in_features=4, out_features=3, bias=True)"
            ]
          },
          "metadata": {
            "tags": []
          },
          "execution_count": 16
        }
      ]
    },
    {
      "cell_type": "code",
      "metadata": {
        "id": "IeM5m1Pf3sL_",
        "colab_type": "code",
        "colab": {
          "base_uri": "https://localhost:8080/",
          "height": 197
        },
        "outputId": "14a8a721-49ee-44e0-b84f-d74448e30ec2"
      },
      "source": [
        "steps = len(dataLoader)\n",
        "\n",
        "for epoch in range(100):\n",
        "  for i, (x, y) in enumerate(dataLoader):\n",
        "    outputs = model(x)\n",
        "    loss = criterion(outputs, y.type(torch.LongTensor).view(-1))\n",
        "    optimizer.zero_grad()\n",
        "    loss.backward()\n",
        "    optimizer.step()\n",
        "\n",
        "  if (epoch+1)%10==0:\n",
        "    print(\"Epoch: {}, Loss: {:.5f}\".format(epoch+1, loss.item()))\n",
        "\n"
      ],
      "execution_count": 18,
      "outputs": [
        {
          "output_type": "stream",
          "text": [
            "Epoch: 10, Loss: 3.10617\n",
            "Epoch: 20, Loss: 2.30601\n",
            "Epoch: 30, Loss: 2.27325\n",
            "Epoch: 40, Loss: 1.71178\n",
            "Epoch: 50, Loss: 1.20925\n",
            "Epoch: 60, Loss: 1.08976\n",
            "Epoch: 70, Loss: 0.91490\n",
            "Epoch: 80, Loss: 0.85722\n",
            "Epoch: 90, Loss: 0.86827\n",
            "Epoch: 100, Loss: 0.82774\n"
          ],
          "name": "stdout"
        }
      ]
    },
    {
      "cell_type": "code",
      "metadata": {
        "id": "GiTA6xpI4dYO",
        "colab_type": "code",
        "colab": {}
      },
      "source": [
        "# Reference link:\n",
        "#https://github.com/buomsoo-kim/PyTorch-learners-tutorial/blob/master/PyTorch%20Basics/pytorch-datasets-1.ipynb"
      ],
      "execution_count": 0,
      "outputs": []
    }
  ]
}